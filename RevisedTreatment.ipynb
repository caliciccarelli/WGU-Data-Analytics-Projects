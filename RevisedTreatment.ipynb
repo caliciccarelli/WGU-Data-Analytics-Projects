{
 "cells": [
  {
   "cell_type": "code",
   "execution_count": null,
   "id": "ba516c62-42f0-4244-99bb-2b1dfef4210f",
   "metadata": {},
   "outputs": [],
   "source": [
    "import pandas as pd\n",
    "import numpy as np\n",
    "from scipy import stats\n",
    "from sklearn.decomposition import PCA\n",
    "import matplotlib.pyplot as plt\n",
    "import seaborn as sns\n",
    "print(df.isna().sum()) #checking for NaN values. Below is the work to fill the NaN values with the mean values\n",
    "median_children= df ['Children'].median()\n",
    "print(median_children)\n",
    "df['Children'] = df['Children'].fillna(median_children)\n",
    "mean_age= df['Age'].mean()\n",
    "print(mean_age)\n",
    "df['Age'] = df['Age'].fillna(mean_age)\n",
    "mean_income = df['Income'].mean()\n",
    "print(mean_income)\n",
    "df['Income'] = df['Income'].fillna(mean_income)\n",
    "mean_tenure= df['Tenure'].mean()\n",
    "print(mean_tenure)\n",
    "df['Tenure'] = df['Tenure'].fillna(mean_tenure)\n",
    "mean_bw = df['Bandwidth_GB_Year'].mean()\n",
    "print(mean_bw)\n",
    "df['Bandwidth_GB_Year'] = df['Bandwidth_GB_Year'].fillna(mean_bw)\n",
    "mode_techie = df['Techie'].mode()\n",
    "print(mode_techie)\n",
    "df['Techie'] = df['Techie'].fillna('No')\n",
    "df['Phone']= df['Phone'].fillna('No')\n",
    "df['TechSupport'] = df['TechSupport'].fillna('No')"
   ]
  }
 ],
 "metadata": {
  "kernelspec": {
   "display_name": "Python 3 (ipykernel)",
   "language": "python",
   "name": "python3"
  },
  "language_info": {
   "codemirror_mode": {
    "name": "ipython",
    "version": 3
   },
   "file_extension": ".py",
   "mimetype": "text/x-python",
   "name": "python",
   "nbconvert_exporter": "python",
   "pygments_lexer": "ipython3",
   "version": "3.10.6"
  }
 },
 "nbformat": 4,
 "nbformat_minor": 5
}
